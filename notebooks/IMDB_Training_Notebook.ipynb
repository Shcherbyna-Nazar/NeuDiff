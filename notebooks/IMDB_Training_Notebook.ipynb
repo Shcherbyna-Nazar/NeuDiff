{
 "cells": [
  {
   "cell_type": "code",
   "execution_count": null,
   "id": "5b32ec4f",
   "metadata": {},
   "outputs": [],
   "source": [
    "using Pkg\n",
    "cd(@__DIR__)\n",
    "cd(\"..\")\n",
    "Pkg.activate(\".\")\n",
    "\n",
    "using MyDiffMLP\n",
    "using MyDiffMLP.MyAD\n",
    "using MyDiffMLP.MyNN"
   ]
  },
  {
   "cell_type": "code",
   "execution_count": 3,
   "id": "d64f8cf9",
   "metadata": {},
   "outputs": [
    {
     "ename": "UndefVarError",
     "evalue": "UndefVarError: `prepare_dataset` not defined in `Main`\nSuggestion: check for spelling errors or missing imports.",
     "output_type": "error",
     "traceback": [
      "UndefVarError: `prepare_dataset` not defined in `Main`\n",
      "Suggestion: check for spelling errors or missing imports.\n",
      "\n",
      "Stacktrace:\n",
      " [1] top-level scope\n",
      "   @ e:\\Proga\\AWID\\MyDiffMLP\\notebooks\\jl_notebook_cell_df34fa98e69747e1a8f8a730347b8e2f_W2sZmlsZQ==.jl:2"
     ]
    }
   ],
   "source": [
    "using JLD2\n",
    "data = prepare_dataset(10000, 0.8)\n",
    "\n",
    "X_train = data.X_train\n",
    "y_train = data.y_train\n",
    "X_test = data.X_test\n",
    "y_test = data.y_test\n",
    "\n",
    "    \n",
    "nothing"
   ]
  },
  {
   "cell_type": "code",
   "execution_count": 5,
   "id": "4d1a0097",
   "metadata": {},
   "outputs": [
    {
     "name": "stdout",
     "output_type": "stream",
     "text": [
      "Epoch: 1 (6.06s) \tTrain: (l: 0.59, a: 0.81) \tTest: (l: 0.49, a: 0.86)\n",
      "Epoch: 2 (5.42s) \tTrain: (l: 0.36, a: 0.93) \tTest: (l: 0.39, a: 0.87)\n",
      "Epoch: 3 (5.49s) \tTrain: (l: 0.23, a: 0.96) \tTest: (l: 0.34, a: 0.87)\n",
      "Epoch: 4 (5.62s) \tTrain: (l: 0.16, a: 0.97) \tTest: (l: 0.32, a: 0.87)\n",
      "Epoch: 5 (5.16s) \tTrain: (l: 0.11, a: 0.99) \tTest: (l: 0.32, a: 0.87)\n"
     ]
    }
   ],
   "source": [
    "using Printf, Statistics, Random\n",
    "\n",
    "function create_batches(X, Y; batchsize=64, shuffle=true)\n",
    "    idxs = collect(1:size(X, 2))\n",
    "    if shuffle\n",
    "        Random.shuffle!(idxs)\n",
    "    end\n",
    "    return [(X[:, idxs[i:min(i+batchsize-1, end)]],\n",
    "             Y[:, idxs[i:min(i+batchsize-1, end)]])\n",
    "             for i in 1:batchsize:length(idxs)]\n",
    "end\n",
    "\n",
    "model = Chain(\n",
    "    Dense(size(X_train, 1), 32, relu),\n",
    "    Dense(32, 1, sigmoid)\n",
    ")\n",
    "\n",
    "function bce(ŷ, y)\n",
    "    ϵ = 1e-7\n",
    "    ŷ_clipped = clamp.(ŷ, ϵ, 1 .- ϵ)\n",
    "    return -mean(y .* log.(ŷ_clipped) .+ (1 .- y) .* log.(1 .- ŷ_clipped))\n",
    "end\n",
    "\n",
    "function bce_grad(ŷ, y)\n",
    "    ϵ = 1e-7\n",
    "    return (ŷ .- y) ./ (clamp.(ŷ .* (1 .- ŷ), ϵ, 1.0)) ./ size(y, 2)\n",
    "end\n",
    "\n",
    "accuracy(ŷ, y) = mean((ŷ .> 0.5) .== (y .> 0.5))\n",
    "\n",
    "epochs = 5\n",
    "batchsize = 64\n",
    "η = 0.001\n",
    "\n",
    "params = parameters(model)\n",
    "state = AdamState(params)\n",
    "\n",
    "for epoch in 1:epochs\n",
    "    total_loss = 0.0\n",
    "    total_acc = 0.0\n",
    "    num_batches = 0\n",
    "\n",
    "    batches = create_batches(X_train, y_train; batchsize=batchsize)\n",
    "\n",
    "    t = @elapsed begin\n",
    "        for (x, y) in batches\n",
    "            x_node = Variable(x, zeros(size(x)))\n",
    "            y_node = Variable(y, zeros(size(y)))\n",
    "\n",
    "            out = model(x_node)\n",
    "            graph = topological_sort(out)\n",
    "            forward!(graph)\n",
    "\n",
    "            ŷ = out.output\n",
    "            l = bce(ŷ, y)\n",
    "            total_loss += l\n",
    "            total_acc += accuracy(ŷ, y)\n",
    "            num_batches += 1\n",
    "\n",
    "            out.gradient = bce_grad(ŷ, y)\n",
    "\n",
    "            zero_gradients!(model)\n",
    "            backward!(graph, out.gradient)\n",
    "            update_adam!(state, params, η)\n",
    "\n",
    "        end\n",
    "    end\n",
    "\n",
    "     \n",
    "    train_loss = total_loss / num_batches\n",
    "    train_acc = total_acc / num_batches\n",
    "\n",
    "    # --- Ewaluacja ---\n",
    "    x_eval = Variable(X_test, zeros(size(X_test)))\n",
    "    out_eval = model(x_eval)\n",
    "    forward!(topological_sort(out_eval))\n",
    "    test_pred = out_eval.output\n",
    "    test_loss = bce(test_pred, y_test)\n",
    "    test_acc = accuracy(test_pred, y_test)\n",
    "\n",
    "    println(@sprintf(\"Epoch: %d (%.2fs) \\tTrain: (l: %.2f, a: %.2f) \\tTest: (l: %.2f, a: %.2f)\",\n",
    "        epoch, t, train_loss, train_acc, test_loss, test_acc))\n",
    "end"
   ]
  }
 ],
 "metadata": {
  "kernelspec": {
   "display_name": "Julia 1.11.5",
   "language": "julia",
   "name": "julia-1.11"
  },
  "language_info": {
   "file_extension": ".jl",
   "mimetype": "application/julia",
   "name": "julia",
   "version": "1.11.5"
  }
 },
 "nbformat": 4,
 "nbformat_minor": 5
}
